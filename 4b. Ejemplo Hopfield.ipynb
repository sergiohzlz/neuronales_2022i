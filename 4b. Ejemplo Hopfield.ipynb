{
 "cells": [
  {
   "cell_type": "markdown",
   "metadata": {},
   "source": [
    "# Red de Hopfield\n",
    "\n"
   ]
  },
  {
   "cell_type": "code",
   "execution_count": 1,
   "metadata": {},
   "outputs": [],
   "source": [
    "from numpy import array, zeros, dot, zeros_like, ones_like, sign, ones\n",
    "from numpy.random import random, choice\n",
    "%matplotlib inline\n",
    "import matplotlib.pyplot as plt\n"
   ]
  },
  {
   "cell_type": "markdown",
   "metadata": {},
   "source": [
    "Creamos un par de patrones a guardar en la red"
   ]
  },
  {
   "cell_type": "code",
   "execution_count": 2,
   "metadata": {},
   "outputs": [
    {
     "name": "stdout",
     "output_type": "stream",
     "text": [
      "[[-1. -1. -1. -1. -1. -1. -1. -1.]\n",
      " [-1.  1. -1. -1. -1. -1.  1. -1.]\n",
      " [-1.  1. -1. -1. -1. -1.  1. -1.]\n",
      " [-1.  1. -1. -1. -1. -1.  1. -1.]\n",
      " [-1.  1. -1. -1. -1. -1.  1. -1.]\n",
      " [-1.  1. -1. -1. -1. -1.  1. -1.]\n",
      " [-1.  1. -1. -1. -1. -1.  1. -1.]\n",
      " [-1.  1.  1.  1.  1.  1.  1. -1.]]\n"
     ]
    },
    {
     "data": {
      "text/plain": [
       "<matplotlib.image.AxesImage at 0x7f9dff55da58>"
      ]
     },
     "execution_count": 2,
     "metadata": {},
     "output_type": "execute_result"
    },
    {
     "data": {
      "image/png": "[encoded data removed]",
      "text/plain": [
       "<Figure size 432x288 with 1 Axes>"
      ]
     },
     "metadata": {
      "needs_background": "light"
     },
     "output_type": "display_data"
    }
   ],
   "source": [
    "U = ones((8,8))*-1.\n",
    "U[1:,1] = 1\n",
    "U[7,1:7] = 1\n",
    "U[1:,6] = 1\n",
    "print(U)\n",
    "plt.imshow(U)"
   ]
  },
  {
   "cell_type": "code",
   "execution_count": 3,
   "metadata": {},
   "outputs": [
    {
     "name": "stdout",
     "output_type": "stream",
     "text": [
      "[[-1.  1.  1.  1.  1.  1.  1. -1.]\n",
      " [-1. -1. -1.  1. -1. -1. -1. -1.]\n",
      " [-1. -1. -1.  1. -1. -1. -1. -1.]\n",
      " [-1. -1. -1.  1. -1. -1. -1. -1.]\n",
      " [-1. -1. -1.  1. -1. -1. -1. -1.]\n",
      " [-1. -1. -1.  1. -1. -1. -1. -1.]\n",
      " [-1. -1. -1.  1. -1. -1. -1. -1.]\n",
      " [-1. -1. -1. -1. -1. -1. -1. -1.]]\n"
     ]
    },
    {
     "data": {
      "text/plain": [
       "<matplotlib.image.AxesImage at 0x7f9dff463128>"
      ]
     },
     "execution_count": 3,
     "metadata": {},
     "output_type": "execute_result"
    },
    {
     "data": {
      "image/png": "[encoded data removed]",
      "text/plain": [
       "<Figure size 432x288 with 1 Axes>"
      ]
     },
     "metadata": {
      "needs_background": "light"
     },
     "output_type": "display_data"
    }
   ],
   "source": [
    "T = ones((8,8))*-1\n",
    "T[0,1:7] = 1\n",
    "T[:7,3]=1\n",
    "print(T)\n",
    "plt.imshow(T)"
   ]
  },
  {
   "cell_type": "code",
   "execution_count": 4,
   "metadata": {},
   "outputs": [
    {
     "name": "stdout",
     "output_type": "stream",
     "text": [
      "Estímulo t\n",
      "[[-1.  1.  1.  1.  1.  1.  1. -1. -1. -1. -1.  1. -1. -1. -1. -1. -1. -1.\n",
      "  -1.  1. -1. -1. -1. -1. -1. -1. -1.  1. -1. -1. -1. -1. -1. -1. -1.  1.\n",
      "  -1. -1. -1. -1. -1. -1. -1.  1. -1. -1. -1. -1. -1. -1. -1.  1. -1. -1.\n",
      "  -1. -1. -1. -1. -1. -1. -1. -1. -1. -1.]]\n",
      "Estímulo u\n",
      "[[-1. -1. -1. -1. -1. -1. -1. -1. -1.  1. -1. -1. -1. -1.  1. -1. -1.  1.\n",
      "  -1. -1. -1. -1.  1. -1. -1.  1. -1. -1. -1. -1.  1. -1. -1.  1. -1. -1.\n",
      "  -1. -1.  1. -1. -1.  1. -1. -1. -1. -1.  1. -1. -1.  1. -1. -1. -1. -1.\n",
      "   1. -1. -1.  1.  1.  1.  1.  1.  1. -1.]]\n"
     ]
    }
   ],
   "source": [
    "t = T.reshape(1,-1)\n",
    "u = U.reshape(1,-1)\n",
    "print(\"Estímulo t\")\n",
    "print(t)\n",
    "print(\"Estímulo u\")\n",
    "print(u)\n",
    "diag = [(i,i) for i in range(64)]"
   ]
  },
  {
   "cell_type": "code",
   "execution_count": 5,
   "metadata": {},
   "outputs": [
    {
     "name": "stdout",
     "output_type": "stream",
     "text": [
      "(64, 64)\n",
      "[0. 0. 0. 0. 0. 0. 0. 0. 0. 0. 0. 0. 0. 0. 0. 0. 0. 0. 0. 0. 0. 0. 0. 0.\n",
      " 0. 0. 0. 0. 0. 0. 0. 0. 0. 0. 0. 0. 0. 0. 0. 0. 0. 0. 0. 0. 0. 0. 0. 0.\n",
      " 0. 0. 0. 0. 0. 0. 0. 0. 0. 0. 0. 0. 0. 0. 0. 0.]\n"
     ]
    }
   ],
   "source": [
    "W = (1./8)*t.T*t\n",
    "print(W.shape)\n",
    "for c in diag:\n",
    "    W[c]=0.\n",
    "print(W.diagonal())"
   ]
  },
  {
   "cell_type": "code",
   "execution_count": 6,
   "metadata": {},
   "outputs": [],
   "source": [
    "W  = W + (1/8.)*u.T*u\n",
    "for c in diag: \n",
    "    W[c] = 0."
   ]
  },
  {
   "cell_type": "code",
   "execution_count": 7,
   "metadata": {},
   "outputs": [
    {
     "name": "stdout",
     "output_type": "stream",
     "text": [
      "[[ 0.    0.    0.   ...  0.    0.    0.25]\n",
      " [ 0.    0.    0.25 ... -0.25 -0.25  0.  ]\n",
      " [ 0.    0.25  0.   ... -0.25 -0.25  0.  ]\n",
      " ...\n",
      " [ 0.   -0.25 -0.25 ...  0.    0.25  0.  ]\n",
      " [ 0.   -0.25 -0.25 ...  0.25  0.    0.  ]\n",
      " [ 0.25  0.    0.   ...  0.    0.    0.  ]]\n"
     ]
    },
    {
     "data": {
      "text/plain": [
       "<matplotlib.image.AxesImage at 0x7f9dff3d15c0>"
      ]
     },
     "execution_count": 7,
     "metadata": {},
     "output_type": "execute_result"
    },
    {
     "data": {
      "image/png": "[encoded data removed]",
      "text/plain": [
       "<Figure size 432x288 with 1 Axes>"
      ]
     },
     "metadata": {
      "needs_background": "light"
     },
     "output_type": "display_data"
    }
   ],
   "source": [
    "print(W)\n",
    "plt.imshow(W)"
   ]
  },
  {
   "cell_type": "code",
   "execution_count": 8,
   "metadata": {},
   "outputs": [
    {
     "name": "stdout",
     "output_type": "stream",
     "text": [
      "u original\n",
      "[[-1. -1. -1. -1. -1. -1. -1. -1. -1.  1. -1. -1. -1. -1.  1. -1. -1.  1.\n",
      "  -1. -1. -1. -1.  1. -1. -1.  1. -1. -1. -1. -1.  1. -1. -1.  1. -1. -1.\n",
      "  -1. -1.  1. -1. -1.  1. -1. -1. -1. -1.  1. -1. -1.  1. -1. -1. -1. -1.\n",
      "   1. -1. -1.  1.  1.  1.  1.  1.  1. -1.]]\n",
      "V mutado\n",
      "[[ 1. -1.  1. -1. -1. -1. -1. -1. -1.  1. -1. -1. -1. -1.  1. -1. -1.  1.\n",
      "   1. -1. -1.  1.  1. -1. -1.  1. -1. -1. -1. -1.  1. -1. -1.  1. -1. -1.\n",
      "  -1. -1.  1. -1. -1.  1.  1. -1. -1. -1.  1.  1. -1.  1. -1. -1. -1. -1.\n",
      "   1. -1. -1.  1. -1. -1.  1.  1. -1. -1.]]\n"
     ]
    },
    {
     "data": {
      "text/plain": [
       "<matplotlib.image.AxesImage at 0x7f9dff3babe0>"
      ]
     },
     "execution_count": 8,
     "metadata": {},
     "output_type": "execute_result"
    },
    {
     "data": {
      "image/png": "[encoded data removed]",
      "text/plain": [
       "<Figure size 432x288 with 1 Axes>"
      ]
     },
     "metadata": {
      "needs_background": "light"
     },
     "output_type": "display_data"
    }
   ],
   "source": [
    "def muta(x, p=0.1):\n",
    "    v = x.copy()\n",
    "    for i in range(len(v[0])):\n",
    "        r = random()\n",
    "        if(r<p):\n",
    "            v[0][i] = choice([-1,1])\n",
    "    return v\n",
    "\n",
    "#ejemplo\n",
    "print(\"u original\")\n",
    "print(u)\n",
    "\n",
    "\n",
    "v = muta(u, 0.3)\n",
    "print(\"V mutado\")\n",
    "print(v)\n",
    "plt.imshow(v.reshape((8,8)))"
   ]
  },
  {
   "cell_type": "code",
   "execution_count": 9,
   "metadata": {},
   "outputs": [
    {
     "name": "stdout",
     "output_type": "stream",
     "text": [
      "[[-1. -1. -1. -1. -1. -1. -1. -1. -1.  1. -1. -1. -1. -1.  1. -1. -1.  1.\n",
      "  -1. -1. -1. -1.  1. -1. -1.  1. -1. -1. -1. -1.  1. -1. -1.  1. -1. -1.\n",
      "  -1. -1.  1. -1. -1.  1. -1. -1. -1. -1.  1. -1. -1.  1. -1. -1. -1. -1.\n",
      "   1. -1. -1.  1.  1.  1.  1.  1.  1. -1.]]\n"
     ]
    },
    {
     "data": {
      "text/plain": [
       "<matplotlib.image.AxesImage at 0x7f9dff3264e0>"
      ]
     },
     "execution_count": 9,
     "metadata": {},
     "output_type": "execute_result"
    },
    {
     "data": {
      "image/png": "[encoded data removed]",
      "text/plain": [
       "<Figure size 432x288 with 1 Axes>"
      ]
     },
     "metadata": {
      "needs_background": "light"
     },
     "output_type": "display_data"
    }
   ],
   "source": [
    "v = sign(v.dot(W))\n",
    "print(v)\n",
    "plt.imshow(v.reshape((8,8)))\n"
   ]
  },
  {
   "cell_type": "code",
   "execution_count": 10,
   "metadata": {},
   "outputs": [
    {
     "data": {
      "text/plain": [
       "<matplotlib.image.AxesImage at 0x7f9dff30b898>"
      ]
     },
     "execution_count": 10,
     "metadata": {},
     "output_type": "execute_result"
    },
    {
     "data": {
      "image/png": "[encoded data removed]",
      "text/plain": [
       "<Figure size 432x288 with 1 Axes>"
      ]
     },
     "metadata": {
      "needs_background": "light"
     },
     "output_type": "display_data"
    }
   ],
   "source": [
    "s = muta(t,0.7)\n",
    "plt.imshow(s.reshape((8,8)))"
   ]
  },
  {
   "cell_type": "code",
   "execution_count": 11,
   "metadata": {},
   "outputs": [
    {
     "data": {
      "text/plain": [
       "<matplotlib.image.AxesImage at 0x7f9dff273e10>"
      ]
     },
     "execution_count": 11,
     "metadata": {},
     "output_type": "execute_result"
    },
    {
     "data": {
      "image/png": "[encoded data removed]",
      "text/plain": [
       "<Figure size 432x288 with 1 Axes>"
      ]
     },
     "metadata": {
      "needs_background": "light"
     },
     "output_type": "display_data"
    }
   ],
   "source": [
    "s = sign(s.dot(W))\n",
    "plt.imshow(s.reshape((8,8)))\n"
   ]
  },
  {
   "cell_type": "markdown",
   "metadata": {},
   "source": [
    "## Dinámica\n",
    "\n",
    "Vamos a ver un ejemplo de la dinámica y la convergencia de estados"
   ]
  },
  {
   "cell_type": "code",
   "execution_count": 12,
   "metadata": {},
   "outputs": [],
   "source": [
    "W = np.array([[0,1,-1],[1,0,1], [-1,1,0]])\n",
    "T = np.array([[0.5]*3])"
   ]
  },
  {
   "cell_type": "code",
   "execution_count": 105,
   "metadata": {},
   "outputs": [
    {
     "data": {
      "text/plain": [
       "3.5"
      ]
     },
     "execution_count": 105,
     "metadata": {},
     "output_type": "execute_result"
    }
   ],
   "source": [
    "energia = lambda W, t, x: -0.5 * (x.dot(W.dot(x))) + t.dot(x)\n",
    "e = np.array((1,-1,1))\n",
    "energia(W,T,e)[0]"
   ]
  },
  {
   "cell_type": "code",
   "execution_count": 106,
   "metadata": {},
   "outputs": [
    {
     "data": {
      "text/plain": [
       "[(1, 1, 1),\n",
       " (1, 1, -1),\n",
       " (1, -1, 1),\n",
       " (1, -1, -1),\n",
       " (-1, 1, 1),\n",
       " (-1, 1, -1),\n",
       " (-1, -1, 1),\n",
       " (-1, -1, -1)]"
      ]
     },
     "execution_count": 106,
     "metadata": {},
     "output_type": "execute_result"
    }
   ],
   "source": [
    "edos = [(x,y,z) for x in (1,-1) for y in (1,-1) for z in (1,-1)]\n",
    "edos"
   ]
  },
  {
   "cell_type": "code",
   "execution_count": 111,
   "metadata": {},
   "outputs": [
    {
     "data": {
      "text/plain": [
       "[((-1, -1, -1), -2.5),\n",
       " ((1, -1, -1), -1.5),\n",
       " ((-1, -1, 1), -1.5),\n",
       " ((1, 1, -1), -0.5),\n",
       " ((-1, 1, 1), -0.5),\n",
       " ((1, 1, 1), 0.5),\n",
       " ((-1, 1, -1), 2.5),\n",
       " ((1, -1, 1), 3.5)]"
      ]
     },
     "execution_count": 111,
     "metadata": {},
     "output_type": "execute_result"
    }
   ],
   "source": [
    "energias = sorted([(edo, energia(W,T,np.array(edo))[0]) for edo in edos], key=lambda x: x[1])\n",
    "energias"
   ]
  },
  {
   "cell_type": "code",
   "execution_count": 113,
   "metadata": {},
   "outputs": [
    {
     "data": {
      "text/plain": [
       "{(1, 1, 1): 0.5,\n",
       " (1, 1, -1): -0.5,\n",
       " (1, -1, 1): 3.5,\n",
       " (1, -1, -1): -1.5,\n",
       " (-1, 1, 1): -0.5,\n",
       " (-1, 1, -1): 2.5,\n",
       " (-1, -1, 1): -1.5,\n",
       " (-1, -1, -1): -2.5}"
      ]
     },
     "execution_count": 113,
     "metadata": {},
     "output_type": "execute_result"
    }
   ],
   "source": [
    "energias = dict( zip(edos,  [energia(W,T,np.array(edo))[0] for edo in edos]))\n",
    "energias"
   ]
  },
  {
   "cell_type": "code",
   "execution_count": 114,
   "metadata": {},
   "outputs": [
    {
     "data": {
      "text/plain": [
       "0.5"
      ]
     },
     "execution_count": 114,
     "metadata": {},
     "output_type": "execute_result"
    }
   ],
   "source": [
    "energias[(1,1,1)]"
   ]
  },
  {
   "cell_type": "code",
   "execution_count": 115,
   "metadata": {},
   "outputs": [],
   "source": [
    "import networkx as nx\n",
    "H = nx.DiGraph()\n",
    "H.add_nodes_from(edos)"
   ]
  },
  {
   "cell_type": "code",
   "execution_count": 117,
   "metadata": {},
   "outputs": [
    {
     "name": "stdout",
     "output_type": "stream",
     "text": [
      "(1, 1, 1)   0.5\n",
      "0   [-1, 1, 1] -0.5 \n",
      "\n",
      "2   [1, 1, -1] -0.5 \n",
      "\n",
      "(1, 1, -1)   -0.5\n",
      "1   [1, -1, -1] -1.5 \n",
      "\n",
      "(1, -1, 1)   3.5\n",
      "0   [-1, -1, 1] -1.5 \n",
      "\n",
      "1   [1, 1, 1] 0.5 \n",
      "\n",
      "2   [1, -1, -1] -1.5 \n",
      "\n",
      "(1, -1, -1)   -1.5\n",
      "0   [-1, -1, -1] -2.5 \n",
      "\n",
      "(-1, 1, 1)   -0.5\n",
      "1   [-1, -1, 1] -1.5 \n",
      "\n",
      "(-1, 1, -1)   2.5\n",
      "0   [1, 1, -1] -0.5 \n",
      "\n",
      "1   [-1, -1, -1] -2.5 \n",
      "\n",
      "2   [-1, 1, 1] -0.5 \n",
      "\n",
      "(-1, -1, 1)   -1.5\n",
      "2   [-1, -1, -1] -2.5 \n",
      "\n",
      "(-1, -1, -1)   -2.5\n"
     ]
    }
   ],
   "source": [
    "for edo in edos:\n",
    "    energia_actual = energias[edo]\n",
    "    print(edo,\" \", energia_actual)\n",
    "    for i in range(3):\n",
    "        candidato = list(edo)\n",
    "        candidato[i] *= -1\n",
    "        enrg_candidato = energias[tuple(candidato)]\n",
    "        if( enrg_candidato < energia_actual):\n",
    "            print(i,\" \", candidato, enrg_candidato,\"\\n\")\n",
    "            H.add_edge(edo, tuple(candidato))"
   ]
  },
  {
   "cell_type": "code",
   "execution_count": 118,
   "metadata": {},
   "outputs": [
    {
     "name": "stdout",
     "output_type": "stream",
     "text": [
      "{(1, 1, 1): '1 1 1', (1, 1, -1): '1 1 -1', (1, -1, 1): '1 -1 1', (1, -1, -1): '1 -1 -1', (-1, 1, 1): '-1 1 1', (-1, 1, -1): '-1 1 -1', (-1, -1, 1): '-1 -1 1', (-1, -1, -1): '-1 -1 -1'}\n"
     ]
    },
    {
     "data": {
      "image/png": "[encoded data removed]",
      "text/plain": [
       "<Figure size 576x576 with 1 Axes>"
      ]
     },
     "metadata": {},
     "output_type": "display_data"
    }
   ],
   "source": [
    "from matplotlib import pyplot as plt\n",
    "plt.cm\n",
    "fig =plt.figure(figsize=(8,8))\n",
    "labels = dict(zip(edos, [' '.join(map(str, edo)) for edo in edos]))\n",
    "\n",
    "print(labels)\n",
    "nx.draw_shell(H, \n",
    "              node_size=5000, \n",
    "              labels=labels, \n",
    "              node_color=list(energias.values()),\n",
    "              cmap=plt.cm.Reds\n",
    "             )\n"
   ]
  },
  {
   "cell_type": "code",
   "execution_count": null,
   "metadata": {},
   "outputs": [],
   "source": []
  }
 ],
 "metadata": {
  "kernelspec": {
   "display_name": "Python 3",
   "language": "python",
   "name": "python3"
  },
  "language_info": {
   "codemirror_mode": {
    "name": "ipython",
    "version": 3
   },
   "file_extension": ".py",
   "mimetype": "text/x-python",
   "name": "python",
   "nbconvert_exporter": "python",
   "pygments_lexer": "ipython3",
   "version": "3.6.9"
  },
  "varInspector": {
   "cols": {
    "lenName": 16,
    "lenType": 16,
    "lenVar": 40
   },
   "kernels_config": {
    "python": {
     "delete_cmd_postfix": "",
     "delete_cmd_prefix": "del ",
     "library": "var_list.py",
     "varRefreshCmd": "print(var_dic_list())"
    },
    "r": {
     "delete_cmd_postfix": ") ",
     "delete_cmd_prefix": "rm(",
     "library": "var_list.r",
     "varRefreshCmd": "cat(var_dic_list()) "
    }
   },
   "types_to_exclude": [
    "module",
    "function",
    "builtin_function_or_method",
    "instance",
    "_Feature"
   ],
   "window_display": false
  }
 },
 "nbformat": 4,
 "nbformat_minor": 2
}

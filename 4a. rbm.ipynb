{
 "cells": [
  {
   "cell_type": "code",
   "execution_count": 3,
   "metadata": {},
   "outputs": [],
   "source": [
    "from __future__ import print_function\n",
    "\n",
    "import numpy as np\n",
    "import matplotlib.pyplot as plt\n",
    "import graphviz\n",
    "\n",
    "from numpy.linalg import cond\n",
    "from numpy import array, dot, exp\n",
    "\n",
    "from scipy.ndimage import convolve\n",
    "\n",
    "from sklearn import linear_model, datasets, metrics, tree\n",
    "from sklearn.preprocessing  import MinMaxScaler\n",
    "from sklearn.datasets       import load_digits, load_iris\n",
    "from sklearn.neural_network import BernoulliRBM\n",
    "from sklearn.linear_model   import LogisticRegression\n",
    "from sklearn.svm            import LinearSVC\n",
    "from sklearn.pipeline       import Pipeline\n",
    "from sklearn.decomposition  import PCA\n",
    "from sklearn.model_selection import train_test_split\n",
    "from sklearn.model_selection import RandomizedSearchCV, GridSearchCV\n",
    "\n"
   ]
  },
  {
   "cell_type": "markdown",
   "metadata": {},
   "source": [
    "# RBM "
   ]
  },
  {
   "cell_type": "markdown",
   "metadata": {},
   "source": [
    "Ejemplos de uso de la Restricted Boltzmann Machine para determinar atributos en clasificación y para reconstrucción de imágenes."
   ]
  },
  {
   "cell_type": "markdown",
   "metadata": {},
   "source": [
    "## RBM para Iris"
   ]
  },
  {
   "cell_type": "code",
   "execution_count": 13,
   "metadata": {},
   "outputs": [
    {
     "name": "stdout",
     "output_type": "stream",
     "text": [
      "[[0.22222222 0.625      0.06779661 0.04166667]\n",
      " [0.16666667 0.41666667 0.06779661 0.04166667]\n",
      " [0.11111111 0.5        0.05084746 0.04166667]\n",
      " [0.08333333 0.45833333 0.08474576 0.04166667]\n",
      " [0.19444444 0.66666667 0.06779661 0.04166667]\n",
      " [0.30555556 0.79166667 0.11864407 0.125     ]\n",
      " [0.08333333 0.58333333 0.06779661 0.08333333]\n",
      " [0.19444444 0.58333333 0.08474576 0.04166667]\n",
      " [0.02777778 0.375      0.06779661 0.04166667]\n",
      " [0.16666667 0.45833333 0.08474576 0.        ]]\n"
     ]
    }
   ],
   "source": [
    "iris = load_iris()\n",
    "data = MinMaxScaler().fit_transform(iris.data)\n",
    "print(data[:10])\n",
    "etqs = iris.target\n",
    "Xtr, Xts, ytr, yts = train_test_split(data, etqs)"
   ]
  },
  {
   "cell_type": "code",
   "execution_count": 14,
   "metadata": {},
   "outputs": [
    {
     "data": {
      "text/plain": [
       "GridSearchCV(estimator=Pipeline(steps=[('rbm', BernoulliRBM()),\n",
       "                                       ('lgt',\n",
       "                                        LogisticRegression(solver='newton-cg'))]),\n",
       "             param_grid={'lgt__C': [50, 100],\n",
       "                         'rbm__learning_rate': [0.1, 0.09, 0.05],\n",
       "                         'rbm__n_components': [2, 3, 4],\n",
       "                         'rbm__n_iter': [10, 20]})"
      ]
     },
     "execution_count": 14,
     "metadata": {},
     "output_type": "execute_result"
    }
   ],
   "source": [
    "rbm = BernoulliRBM()\n",
    "lgt = LogisticRegression(solver='newton-cg')\n",
    "pipe = Pipeline([(\"rbm\",rbm), (\"lgt\",lgt)])\n",
    "\n",
    "params = { \"rbm__learning_rate\" : [0.1, 0.09, 0.05],\n",
    "           \"rbm__n_components\"  : [2,3,4],\n",
    "           \"rbm__n_iter\"        : [10, 20],\n",
    "           \"lgt__C\"             : [50, 100]\n",
    "         }\n",
    "rv = GridSearchCV(pipe, params)\n",
    "rv.fit(Xtr,ytr)"
   ]
  },
  {
   "cell_type": "code",
   "execution_count": 15,
   "metadata": {},
   "outputs": [
    {
     "name": "stdout",
     "output_type": "stream",
     "text": [
      "0.8229249011857707\n",
      "{'lgt__C': 100, 'rbm__learning_rate': 0.1, 'rbm__n_components': 3, 'rbm__n_iter': 20}\n"
     ]
    }
   ],
   "source": [
    "print(rv.best_score_)\n",
    "prms = rv.best_params_\n",
    "print(prms)"
   ]
  },
  {
   "cell_type": "code",
   "execution_count": 16,
   "metadata": {},
   "outputs": [
    {
     "data": {
      "text/plain": [
       "Pipeline(steps=[('rbm', BernoulliRBM(n_components=2, n_iter=20)),\n",
       "                ('lgt', LogisticRegression(C=100, solver='newton-cg'))])"
      ]
     },
     "execution_count": 16,
     "metadata": {},
     "output_type": "execute_result"
    }
   ],
   "source": [
    "rbm = BernoulliRBM()\n",
    "lgt = LogisticRegression(solver='newton-cg')\n",
    "pipe = Pipeline([(\"rbm\",rbm), (\"lgt\",lgt)])\n",
    "rbm.n_components = 2\n",
    "rbm.learning_rate = 0.1\n",
    "rbm.n_iter = 20\n",
    "lgt.C = 100\n",
    "lgt.solver = 'newton-cg'\n",
    "pipe = Pipeline( [(\"rbm\", rbm), (\"lgt\",lgt)] )\n",
    "pipe.fit(Xtr,ytr)"
   ]
  },
  {
   "cell_type": "code",
   "execution_count": 17,
   "metadata": {},
   "outputs": [
    {
     "data": {
      "text/plain": [
       "array([[-0.3303459 , -0.19409834, -0.32238585, -0.31943798],\n",
       "       [-0.32304692, -0.19261729, -0.31972147, -0.32312731]])"
      ]
     },
     "execution_count": 17,
     "metadata": {},
     "output_type": "execute_result"
    }
   ],
   "source": [
    "rbm.components_"
   ]
  },
  {
   "cell_type": "code",
   "execution_count": 18,
   "metadata": {},
   "outputs": [
    {
     "name": "stdout",
     "output_type": "stream",
     "text": [
      "2 - 2 - [0.0549195  0.05508401]\n",
      "1 - 2 - [0.06696543 0.06717104]\n",
      "0 - 0 - [0.1002948  0.10039922]\n",
      "2 - 2 - [0.04777433 0.04806696]\n",
      "2 - 1 - [0.07991666 0.07989532]\n",
      "2 - 2 - [0.05743181 0.05756862]\n",
      "2 - 2 - [0.06187704 0.06204082]\n",
      "0 - 0 - [0.10592958 0.10596834]\n",
      "0 - 0 - [0.1161497  0.11609658]\n",
      "0 - 0 - [0.10204026 0.10220342]\n",
      "1 - 1 - [0.0811208  0.08131134]\n",
      "0 - 0 - [0.09931045 0.09952571]\n",
      "1 - 1 - [0.07431396 0.07453349]\n",
      "2 - 2 - [0.05033532 0.050553  ]\n",
      "1 - 1 - [0.07247314 0.07271028]\n",
      "0 - 0 - [0.10448853 0.10461137]\n",
      "0 - 0 - [0.09826035 0.0984124 ]\n",
      "0 - 0 - [0.10223998 0.10237749]\n",
      "2 - 2 - [0.05926763 0.05940075]\n",
      "0 - 0 - [0.10432245 0.10445785]\n",
      "2 - 2 - [0.05577457 0.05597589]\n",
      "2 - 2 - [0.05672218 0.05701065]\n",
      "1 - 0 - [0.09112209 0.09115193]\n",
      "1 - 1 - [0.07017196 0.07043756]\n",
      "1 - 1 - [0.08303537 0.08312617]\n",
      "2 - 2 - [0.06775011 0.06788686]\n",
      "2 - 2 - [0.06244926 0.06263203]\n",
      "1 - 1 - [0.08034665 0.0804638 ]\n",
      "1 - 1 - [0.08678263 0.08690788]\n",
      "2 - 2 - [0.05598337 0.05611509]\n",
      "2 - 2 - [0.05690815 0.05720307]\n",
      "0 - 0 - [0.09518812 0.09533825]\n",
      "2 - 2 - [0.06749075 0.06764616]\n",
      "1 - 1 - [0.08181208 0.08191095]\n",
      "0 - 0 - [0.09895772 0.09912849]\n",
      "0 - 0 - [0.09385812 0.09413709]\n",
      "2 - 2 - [0.06182509 0.0620107 ]\n",
      "0 - 0 - [0.10983838 0.10992399]\n"
     ]
    }
   ],
   "source": [
    "Yh = pipe.predict(Xts)\n",
    "V = rbm.transform(Xts)\n",
    "for y, yh, v in zip(yts, Yh, V):\n",
    "    print(\"{0} - {1} - {2}\".format(y,yh, v))"
   ]
  },
  {
   "cell_type": "code",
   "execution_count": 19,
   "metadata": {},
   "outputs": [
    {
     "name": "stdout",
     "output_type": "stream",
     "text": [
      "              precision    recall  f1-score   support\n",
      "\n",
      "           0       0.93      1.00      0.96        13\n",
      "           1       0.89      0.80      0.84        10\n",
      "           2       0.93      0.93      0.93        15\n",
      "\n",
      "    accuracy                           0.92        38\n",
      "   macro avg       0.92      0.91      0.91        38\n",
      "weighted avg       0.92      0.92      0.92        38\n",
      "\n"
     ]
    }
   ],
   "source": [
    "print(metrics.classification_report(yts,Yh))"
   ]
  },
  {
   "cell_type": "code",
   "execution_count": 20,
   "metadata": {},
   "outputs": [
    {
     "name": "stdout",
     "output_type": "stream",
     "text": [
      "2 - 1\n",
      "1 - 1\n",
      "0 - 1\n",
      "2 - 1\n",
      "2 - 0\n",
      "2 - 1\n",
      "2 - 1\n",
      "0 - 1\n",
      "0 - 0\n",
      "0 - 1\n",
      "1 - 1\n",
      "0 - 1\n",
      "1 - 1\n",
      "2 - 1\n",
      "1 - 1\n",
      "0 - 1\n",
      "0 - 1\n",
      "0 - 1\n",
      "2 - 1\n",
      "0 - 1\n",
      "2 - 1\n",
      "2 - 1\n",
      "1 - 1\n",
      "1 - 1\n",
      "1 - 1\n",
      "2 - 1\n",
      "2 - 1\n",
      "1 - 1\n",
      "1 - 1\n",
      "2 - 1\n",
      "2 - 1\n",
      "0 - 1\n",
      "2 - 1\n",
      "1 - 1\n",
      "0 - 1\n",
      "0 - 1\n",
      "2 - 1\n",
      "0 - 1\n"
     ]
    }
   ],
   "source": [
    "V = rbm.transform(Xts)\n",
    "for y,v in zip(yts,V):\n",
    "    ft = np.argmax(v)\n",
    "    print(\"{0} - {1}\".format(y,ft))\n"
   ]
  },
  {
   "cell_type": "code",
   "execution_count": 21,
   "metadata": {},
   "outputs": [
    {
     "data": {
      "image/png": "[encoded data removed]",
      "text/plain": [
       "<Figure size 432x288 with 1 Axes>"
      ]
     },
     "metadata": {
      "needs_background": "light"
     },
     "output_type": "display_data"
    }
   ],
   "source": [
    "W = sorted(zip(yts,V), key=lambda x: x[0])\n",
    "\n",
    "T = [(w[1][1],w[0]) for w in W if w[0]!=0]\n",
    "for t in T:\n",
    "    plt.scatter(t[0],t[1])\n",
    "plt.show()"
   ]
  },
  {
   "cell_type": "markdown",
   "metadata": {},
   "source": [
    "## RBM para dígitos"
   ]
  },
  {
   "cell_type": "code",
   "execution_count": 40,
   "metadata": {},
   "outputs": [],
   "source": [
    "def nudge_dataset(X, Y):\n",
    "    direction_vectors = [\n",
    "        [[0, 1, 0],\n",
    "         [0, 0, 0],\n",
    "         [0, 0, 0]],\n",
    "\n",
    "        [[0, 0, 0],\n",
    "         [1, 0, 0],\n",
    "         [0, 0, 0]],\n",
    "\n",
    "        [[0, 0, 0],\n",
    "         [0, 0, 1],\n",
    "         [0, 0, 0]],\n",
    "\n",
    "        [[0, 0, 0],\n",
    "         [0, 0, 0],\n",
    "         [0, 1, 0]]]\n",
    "\n",
    "    shift = lambda x, w: convolve(x.reshape((8, 8)), mode='constant',\n",
    "                                  weights=w).ravel()\n",
    "    X = np.concatenate([X] +\n",
    "                       [np.apply_along_axis(shift, 1, X, vector)\n",
    "                        for vector in direction_vectors])\n",
    "    Y = np.concatenate([Y for _ in range(5)], axis=0)\n",
    "    return X, Y\n",
    "\n",
    "digits = load_digits()\n",
    "X = np.asarray(digits.data, 'float32')\n",
    "X, Y = nudge_dataset(X, digits.target)\n",
    "X = (X - np.min(X, 0)) / (np.max(X, 0) + 0.0001)  # 0-1 scaling\n",
    "\n",
    "X_train, X_test, Y_train, Y_test = train_test_split(X, Y,\n",
    "                                                    test_size=0.2,\n",
    "                                                    random_state=0)\n"
   ]
  },
  {
   "cell_type": "code",
   "execution_count": 41,
   "metadata": {},
   "outputs": [],
   "source": [
    "logistic = linear_model.LogisticRegression()\n",
    "rbm = BernoulliRBM(random_state=0, verbose=True)\n",
    "\n",
    "classifier = Pipeline(steps=[('rbm', rbm), ('logistic', logistic)])"
   ]
  },
  {
   "cell_type": "code",
   "execution_count": 42,
   "metadata": {},
   "outputs": [
    {
     "name": "stdout",
     "output_type": "stream",
     "text": [
      "[BernoulliRBM] Iteration 1, pseudo-likelihood = -25.39, time = 0.29s\n",
      "[BernoulliRBM] Iteration 2, pseudo-likelihood = -23.77, time = 0.37s\n",
      "[BernoulliRBM] Iteration 3, pseudo-likelihood = -22.94, time = 0.33s\n",
      "[BernoulliRBM] Iteration 4, pseudo-likelihood = -21.91, time = 0.46s\n",
      "[BernoulliRBM] Iteration 5, pseudo-likelihood = -21.69, time = 0.32s\n",
      "[BernoulliRBM] Iteration 6, pseudo-likelihood = -21.06, time = 0.43s\n",
      "[BernoulliRBM] Iteration 7, pseudo-likelihood = -20.89, time = 0.34s\n",
      "[BernoulliRBM] Iteration 8, pseudo-likelihood = -20.64, time = 0.32s\n",
      "[BernoulliRBM] Iteration 9, pseudo-likelihood = -20.36, time = 0.33s\n",
      "[BernoulliRBM] Iteration 10, pseudo-likelihood = -20.09, time = 0.41s\n",
      "[BernoulliRBM] Iteration 11, pseudo-likelihood = -20.08, time = 0.32s\n",
      "[BernoulliRBM] Iteration 12, pseudo-likelihood = -19.82, time = 0.32s\n",
      "[BernoulliRBM] Iteration 13, pseudo-likelihood = -19.64, time = 0.33s\n",
      "[BernoulliRBM] Iteration 14, pseudo-likelihood = -19.61, time = 0.32s\n",
      "[BernoulliRBM] Iteration 15, pseudo-likelihood = -19.57, time = 0.31s\n",
      "[BernoulliRBM] Iteration 16, pseudo-likelihood = -19.41, time = 0.44s\n",
      "[BernoulliRBM] Iteration 17, pseudo-likelihood = -19.30, time = 0.31s\n",
      "[BernoulliRBM] Iteration 18, pseudo-likelihood = -19.25, time = 0.32s\n",
      "[BernoulliRBM] Iteration 19, pseudo-likelihood = -19.27, time = 0.33s\n",
      "[BernoulliRBM] Iteration 20, pseudo-likelihood = -19.01, time = 0.32s\n"
     ]
    },
    {
     "name": "stderr",
     "output_type": "stream",
     "text": [
      "/usr/local/lib/python3.6/dist-packages/sklearn/linear_model/_logistic.py:764: ConvergenceWarning: lbfgs failed to converge (status=1):\n",
      "STOP: TOTAL NO. of ITERATIONS REACHED LIMIT.\n",
      "\n",
      "Increase the number of iterations (max_iter) or scale the data as shown in:\n",
      "    https://scikit-learn.org/stable/modules/preprocessing.html\n",
      "Please also refer to the documentation for alternative solver options:\n",
      "    https://scikit-learn.org/stable/modules/linear_model.html#logistic-regression\n",
      "  extra_warning_msg=_LOGISTIC_SOLVER_CONVERGENCE_MSG)\n",
      "/usr/local/lib/python3.6/dist-packages/sklearn/linear_model/_logistic.py:764: ConvergenceWarning: lbfgs failed to converge (status=1):\n",
      "STOP: TOTAL NO. of ITERATIONS REACHED LIMIT.\n",
      "\n",
      "Increase the number of iterations (max_iter) or scale the data as shown in:\n",
      "    https://scikit-learn.org/stable/modules/preprocessing.html\n",
      "Please also refer to the documentation for alternative solver options:\n",
      "    https://scikit-learn.org/stable/modules/linear_model.html#logistic-regression\n",
      "  extra_warning_msg=_LOGISTIC_SOLVER_CONVERGENCE_MSG)\n"
     ]
    },
    {
     "data": {
      "text/plain": [
       "LogisticRegression(C=100.0)"
      ]
     },
     "execution_count": 42,
     "metadata": {},
     "output_type": "execute_result"
    }
   ],
   "source": [
    "rbm.learning_rate = 0.06\n",
    "rbm.n_iter = 20\n",
    "rbm.n_components = 100\n",
    "\n",
    "logistic.C = 6000.0\n",
    "\n",
    "# Training RBM-Logistic Pipeline\n",
    "classifier.fit(X_train, Y_train)\n",
    "\n",
    "# Training Logistic regression\n",
    "logistic_classifier = linear_model.LogisticRegression(C=100.0)\n",
    "logistic_classifier.fit(X_train, Y_train)\n"
   ]
  },
  {
   "cell_type": "code",
   "execution_count": 26,
   "metadata": {},
   "outputs": [
    {
     "name": "stdout",
     "output_type": "stream",
     "text": [
      "\n",
      "Pipeline Logistic + RBM:\n",
      "              precision    recall  f1-score   support\n",
      "\n",
      "           0       0.99      0.98      0.99       174\n",
      "           1       0.90      0.90      0.90       184\n",
      "           2       0.86      0.93      0.90       166\n",
      "           3       0.89      0.87      0.88       194\n",
      "           4       0.96      0.91      0.93       186\n",
      "           5       0.90      0.91      0.90       181\n",
      "           6       0.96      0.96      0.96       207\n",
      "           7       0.92      0.98      0.95       154\n",
      "           8       0.86      0.85      0.85       182\n",
      "           9       0.89      0.83      0.86       169\n",
      "\n",
      "    accuracy                           0.91      1797\n",
      "   macro avg       0.91      0.91      0.91      1797\n",
      "weighted avg       0.91      0.91      0.91      1797\n",
      "\n",
      "\n",
      "Logistic:\n",
      "              precision    recall  f1-score   support\n",
      "\n",
      "           0       0.89      0.93      0.91       174\n",
      "           1       0.58      0.57      0.58       184\n",
      "           2       0.75      0.85      0.79       166\n",
      "           3       0.77      0.78      0.78       194\n",
      "           4       0.80      0.84      0.82       186\n",
      "           5       0.77      0.76      0.76       181\n",
      "           6       0.90      0.87      0.89       207\n",
      "           7       0.86      0.89      0.88       154\n",
      "           8       0.69      0.55      0.61       182\n",
      "           9       0.73      0.74      0.73       169\n",
      "\n",
      "    accuracy                           0.78      1797\n",
      "   macro avg       0.77      0.78      0.77      1797\n",
      "weighted avg       0.77      0.78      0.77      1797\n",
      "\n",
      "\n"
     ]
    }
   ],
   "source": [
    "\n",
    "print()\n",
    "print(\"Pipeline Logistic + RBM:\\n%s\\n\" % (\n",
    "    metrics.classification_report(\n",
    "        Y_test,\n",
    "        classifier.predict(X_test))))\n",
    "\n",
    "print(\"Logistic:\\n%s\\n\" % (\n",
    "    metrics.classification_report(\n",
    "        Y_test,\n",
    "        logistic_classifier.predict(X_test))))"
   ]
  },
  {
   "cell_type": "code",
   "execution_count": 27,
   "metadata": {},
   "outputs": [
    {
     "data": {
      "text/plain": [
       "array([[-4.04238111e-01, -1.35925630e-01, -6.76190522e-03, ...,\n",
       "        -4.40564107e-01, -4.16905372e-01, -3.37892545e-01],\n",
       "       [-4.85343368e-01, -7.22034837e-01, -7.93680293e-01, ...,\n",
       "        -3.44545277e-01, -7.10465176e-01, -5.35586470e-01],\n",
       "       [-3.26872638e-02,  3.49365530e-02, -4.17062553e-03, ...,\n",
       "        -2.30615588e-01, -2.46669759e-01, -3.91089920e-01],\n",
       "       ...,\n",
       "       [-6.01114951e-01, -8.75882044e-01, -7.86172361e-01, ...,\n",
       "        -1.12449686e+00, -1.09010817e+00, -7.15011226e-01],\n",
       "       [-1.99361466e-02,  3.81272213e-01,  3.65042737e-01, ...,\n",
       "        -8.66709121e-01, -8.18679977e-01, -4.36909741e-01],\n",
       "       [ 8.73349987e-04,  2.59311296e-02,  1.40647856e-02, ...,\n",
       "         6.94241123e-02, -1.33831315e-02, -2.00651261e-01]])"
      ]
     },
     "execution_count": 27,
     "metadata": {},
     "output_type": "execute_result"
    }
   ],
   "source": [
    "rbm.components_"
   ]
  },
  {
   "cell_type": "code",
   "execution_count": 28,
   "metadata": {},
   "outputs": [
    {
     "data": {
      "image/png": "[encoded data removed]",
      "text/plain": [
       "<Figure size 604.8x576 with 100 Axes>"
      ]
     },
     "metadata": {},
     "output_type": "display_data"
    }
   ],
   "source": [
    "\n",
    "plt.figure(figsize=(8.4, 8))\n",
    "for i, comp in enumerate(rbm.components_):\n",
    "    plt.subplot(10, 10, i + 1)\n",
    "    plt.imshow(comp.reshape((8, 8)), cmap=plt.cm.gray_r,\n",
    "               interpolation='nearest')\n",
    "    plt.xticks(())\n",
    "    plt.yticks(())\n",
    "plt.suptitle('Componentes detectados por RBM', fontsize=16)\n",
    "plt.subplots_adjust(0.08, 0.02, 0.92, 0.85, 0.08, 0.23)\n",
    "\n",
    "plt.show()"
   ]
  },
  {
   "cell_type": "code",
   "execution_count": 29,
   "metadata": {},
   "outputs": [
    {
     "name": "stdout",
     "output_type": "stream",
     "text": [
      "0\n",
      "1\n",
      "2\n",
      "3\n",
      "4\n",
      "5\n",
      "6\n",
      "7\n",
      "8\n",
      "9\n"
     ]
    },
    {
     "data": {
      "image/png": "[encoded data removed]",
      "text/plain": [
       "<Figure size 604.8x576 with 10 Axes>"
      ]
     },
     "metadata": {},
     "output_type": "display_data"
    }
   ],
   "source": [
    "numeros = [0,1,2,3,4,5,6,7,8,9]\n",
    "Xv = []\n",
    "for n in numeros:\n",
    "    for x,y in zip(X_train, Y_train):\n",
    "        if y==n:\n",
    "            print(y)\n",
    "            Xv.append(x)\n",
    "            break\n",
    "\n",
    "plt.figure(figsize=(8.4, 8))\n",
    "for num in numeros:\n",
    "    plt.subplot(1, 10, num + 1)\n",
    "    plt.imshow(Xv[num].reshape((8, 8)), cmap=plt.cm.gray_r,\n",
    "               interpolation='nearest')\n",
    "    plt.xticks(())\n",
    "    plt.yticks(())\n",
    "\n",
    "plt.subplots_adjust(0.08, 0.02, 0.92, 0.85, 0.08, 0.23)\n",
    "plt.show()    \n"
   ]
  },
  {
   "cell_type": "code",
   "execution_count": null,
   "metadata": {
    "collapsed": true
   },
   "outputs": [],
   "source": []
  }
 ],
 "metadata": {
  "kernelspec": {
   "display_name": "Python 3",
   "language": "python",
   "name": "python3"
  },
  "language_info": {
   "codemirror_mode": {
    "name": "ipython",
    "version": 3
   },
   "file_extension": ".py",
   "mimetype": "text/x-python",
   "name": "python",
   "nbconvert_exporter": "python",
   "pygments_lexer": "ipython3",
   "version": "3.6.9"
  },
  "varInspector": {
   "cols": {
    "lenName": 16,
    "lenType": 16,
    "lenVar": 40
   },
   "kernels_config": {
    "python": {
     "delete_cmd_postfix": "",
     "delete_cmd_prefix": "del ",
     "library": "var_list.py",
     "varRefreshCmd": "print(var_dic_list())"
    },
    "r": {
     "delete_cmd_postfix": ") ",
     "delete_cmd_prefix": "rm(",
     "library": "var_list.r",
     "varRefreshCmd": "cat(var_dic_list()) "
    }
   },
   "types_to_exclude": [
    "module",
    "function",
    "builtin_function_or_method",
    "instance",
    "_Feature"
   ],
   "window_display": false
  }
 },
 "nbformat": 4,
 "nbformat_minor": 2
}

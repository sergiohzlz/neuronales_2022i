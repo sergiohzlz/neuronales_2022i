{
 "cells": [
  {
   "cell_type": "markdown",
   "metadata": {},
   "source": [
    "# Ejemplo 2: Pima Indian Diabetes \n",
    "\n",
    "Este es un dataset de Kaggle que pueden encontrar [acá](https://www.kaggle.com/uciml/pima-indians-diabetes-database). El objetivo es determinar si alguien tiene o no diabetes a partir de ciertas medidas diagnósticas en el dataset. Todas las pacientes son mujeres mayores a 21 años. \n",
    "\n",
    "Instancias: 768 \n",
    "\n",
    "Atributos: 8 + variable clasificadora\n",
    "1. Number of times pregnant\n",
    "1. Plasma glucose concentration a 2 hours in an oral glucose tolerance test\n",
    "1. Diastolic blood pressure (mm Hg)\n",
    "1. Triceps skin fold thickness (mm)\n",
    "1. 2-Hour serum insulin (mu U/ml)\n",
    "1. Body mass index (weight in kg/(height in m)^2)\n",
    "1. Diabetes pedigree function\n",
    "1. Age (years)\n",
    "1. Class variable (0 or 1)\n",
    "\n",
    "\n",
    "\n"
   ]
  },
  {
   "cell_type": "code",
   "execution_count": 33,
   "metadata": {},
   "outputs": [],
   "source": [
    "import pandas as pd\n",
    "import numpy as np\n",
    "import tensorflow as tf\n",
    "import seaborn as sns\n",
    "\n",
    "from sklearn.model_selection import train_test_split\n",
    "from sklearn.preprocessing   import StandardScaler, MinMaxScaler\n",
    "\n",
    "from tensorflow.keras.models import Sequential\n",
    "from tensorflow.keras.layers import Dense\n",
    "from tensorflow.keras.layers import Dropout\n",
    "\n",
    "import matplotlib.pyplot as plt\n",
    "\n",
    "%matplotlib inline"
   ]
  },
  {
   "cell_type": "code",
   "execution_count": 10,
   "metadata": {},
   "outputs": [
    {
     "data": {
      "text/plain": [
       "(767, 9)"
      ]
     },
     "execution_count": 10,
     "metadata": {},
     "output_type": "execute_result"
    }
   ],
   "source": [
    "data = pd.read_csv(\"../../../Z_datasets/pima-indians-diabetes.data.csv\", header=0)\n",
    "data.columns = [\"embarazos\",\n",
    "                \"glucosa\",\n",
    "                \"presion_art\",\n",
    "                \"piel_ancho\",\n",
    "                \"insulina\",\n",
    "                \"bmi\",\n",
    "                \"pedigree\",\n",
    "                \"edad\",\n",
    "                \"clase\"]\n",
    "data.shape"
   ]
  },
  {
   "cell_type": "code",
   "execution_count": 11,
   "metadata": {},
   "outputs": [
    {
     "data": {
      "text/html": [
       "<div>\n",
       "<style scoped>\n",
       "    .dataframe tbody tr th:only-of-type {\n",
       "        vertical-align: middle;\n",
       "    }\n",
       "\n",
       "    .dataframe tbody tr th {\n",
       "        vertical-align: top;\n",
       "    }\n",
       "\n",
       "    .dataframe thead th {\n",
       "        text-align: right;\n",
       "    }\n",
       "</style>\n",
       "<table border=\"1\" class=\"dataframe\">\n",
       "  <thead>\n",
       "    <tr style=\"text-align: right;\">\n",
       "      <th></th>\n",
       "      <th>embarazos</th>\n",
       "      <th>glucosa</th>\n",
       "      <th>presion_art</th>\n",
       "      <th>piel_ancho</th>\n",
       "      <th>insulina</th>\n",
       "      <th>bmi</th>\n",
       "      <th>pedigree</th>\n",
       "      <th>edad</th>\n",
       "      <th>clase</th>\n",
       "    </tr>\n",
       "  </thead>\n",
       "  <tbody>\n",
       "    <tr>\n",
       "      <th>0</th>\n",
       "      <td>1</td>\n",
       "      <td>85</td>\n",
       "      <td>66</td>\n",
       "      <td>29</td>\n",
       "      <td>0</td>\n",
       "      <td>26.6</td>\n",
       "      <td>0.351</td>\n",
       "      <td>31</td>\n",
       "      <td>0</td>\n",
       "    </tr>\n",
       "    <tr>\n",
       "      <th>1</th>\n",
       "      <td>8</td>\n",
       "      <td>183</td>\n",
       "      <td>64</td>\n",
       "      <td>0</td>\n",
       "      <td>0</td>\n",
       "      <td>23.3</td>\n",
       "      <td>0.672</td>\n",
       "      <td>32</td>\n",
       "      <td>1</td>\n",
       "    </tr>\n",
       "    <tr>\n",
       "      <th>2</th>\n",
       "      <td>1</td>\n",
       "      <td>89</td>\n",
       "      <td>66</td>\n",
       "      <td>23</td>\n",
       "      <td>94</td>\n",
       "      <td>28.1</td>\n",
       "      <td>0.167</td>\n",
       "      <td>21</td>\n",
       "      <td>0</td>\n",
       "    </tr>\n",
       "    <tr>\n",
       "      <th>3</th>\n",
       "      <td>0</td>\n",
       "      <td>137</td>\n",
       "      <td>40</td>\n",
       "      <td>35</td>\n",
       "      <td>168</td>\n",
       "      <td>43.1</td>\n",
       "      <td>2.288</td>\n",
       "      <td>33</td>\n",
       "      <td>1</td>\n",
       "    </tr>\n",
       "    <tr>\n",
       "      <th>4</th>\n",
       "      <td>5</td>\n",
       "      <td>116</td>\n",
       "      <td>74</td>\n",
       "      <td>0</td>\n",
       "      <td>0</td>\n",
       "      <td>25.6</td>\n",
       "      <td>0.201</td>\n",
       "      <td>30</td>\n",
       "      <td>0</td>\n",
       "    </tr>\n",
       "  </tbody>\n",
       "</table>\n",
       "</div>"
      ],
      "text/plain": [
       "   embarazos  glucosa  presion_art  piel_ancho  insulina   bmi  pedigree  \\\n",
       "0          1       85           66          29         0  26.6     0.351   \n",
       "1          8      183           64           0         0  23.3     0.672   \n",
       "2          1       89           66          23        94  28.1     0.167   \n",
       "3          0      137           40          35       168  43.1     2.288   \n",
       "4          5      116           74           0         0  25.6     0.201   \n",
       "\n",
       "   edad  clase  \n",
       "0    31      0  \n",
       "1    32      1  \n",
       "2    21      0  \n",
       "3    33      1  \n",
       "4    30      0  "
      ]
     },
     "execution_count": 11,
     "metadata": {},
     "output_type": "execute_result"
    }
   ],
   "source": [
    "data.head()\n"
   ]
  },
  {
   "cell_type": "code",
   "execution_count": 13,
   "metadata": {},
   "outputs": [
    {
     "name": "stdout",
     "output_type": "stream",
     "text": [
      "<class 'pandas.core.frame.DataFrame'>\n",
      "RangeIndex: 767 entries, 0 to 766\n",
      "Data columns (total 9 columns):\n",
      " #   Column       Non-Null Count  Dtype  \n",
      "---  ------       --------------  -----  \n",
      " 0   embarazos    767 non-null    int64  \n",
      " 1   glucosa      767 non-null    int64  \n",
      " 2   presion_art  767 non-null    int64  \n",
      " 3   piel_ancho   767 non-null    int64  \n",
      " 4   insulina     767 non-null    int64  \n",
      " 5   bmi          767 non-null    float64\n",
      " 6   pedigree     767 non-null    float64\n",
      " 7   edad         767 non-null    int64  \n",
      " 8   clase        767 non-null    int64  \n",
      "dtypes: float64(2), int64(7)\n",
      "memory usage: 54.1 KB\n",
      "None\n"
     ]
    }
   ],
   "source": [
    "print(data.info())"
   ]
  },
  {
   "cell_type": "code",
   "execution_count": 14,
   "metadata": {},
   "outputs": [
    {
     "data": {
      "text/plain": [
       "embarazos      0\n",
       "glucosa        0\n",
       "presion_art    0\n",
       "piel_ancho     0\n",
       "insulina       0\n",
       "bmi            0\n",
       "pedigree       0\n",
       "edad           0\n",
       "clase          0\n",
       "dtype: int64"
      ]
     },
     "execution_count": 14,
     "metadata": {},
     "output_type": "execute_result"
    }
   ],
   "source": [
    "data.isnull().sum()"
   ]
  },
  {
   "cell_type": "code",
   "execution_count": 16,
   "metadata": {},
   "outputs": [
    {
     "data": {
      "image/png": "[encoded data removed]",
      "text/plain": [
       "<Figure size 1440x1440 with 2 Axes>"
      ]
     },
     "metadata": {
      "needs_background": "light"
     },
     "output_type": "display_data"
    }
   ],
   "source": [
    "corr_ds = data.corr()\n",
    "top_corr = corr_ds.index\n",
    "plt.figure(figsize=(20,20))\n",
    "g = sns.heatmap(data[top_corr].corr(), annot = True)\n"
   ]
  },
  {
   "cell_type": "code",
   "execution_count": 17,
   "metadata": {},
   "outputs": [
    {
     "name": "stderr",
     "output_type": "stream",
     "text": [
      "/usr/local/lib/python3.6/dist-packages/seaborn/_decorators.py:43: FutureWarning: Pass the following variable as a keyword arg: x. From version 0.12, the only valid positional argument will be `data`, and passing other arguments without an explicit keyword will result in an error or misinterpretation.\n",
      "  FutureWarning\n"
     ]
    },
    {
     "data": {
      "text/plain": [
       "<AxesSubplot:xlabel='clase', ylabel='count'>"
      ]
     },
     "execution_count": 17,
     "metadata": {},
     "output_type": "execute_result"
    },
    {
     "data": {
      "image/png": "[encoded data removed]",
      "text/plain": [
       "<Figure size 432x288 with 1 Axes>"
      ]
     },
     "metadata": {
      "needs_background": "light"
     },
     "output_type": "display_data"
    }
   ],
   "source": [
    "sns.countplot(data['clase'])"
   ]
  },
  {
   "cell_type": "markdown",
   "metadata": {},
   "source": [
    "## Pretratamiento"
   ]
  },
  {
   "cell_type": "markdown",
   "metadata": {},
   "source": [
    "Separamos nuestro conjunto de datos en entrenamiento y prueba"
   ]
  },
  {
   "cell_type": "code",
   "execution_count": 29,
   "metadata": {},
   "outputs": [],
   "source": [
    "cols_datos = [\"embarazos\",\n",
    "                \"glucosa\",\n",
    "                \"presion_art\",\n",
    "                \"piel_ancho\",\n",
    "                \"insulina\",\n",
    "                \"bmi\",\n",
    "                \"pedigree\",\n",
    "                \"edad\"]\n",
    "X = data[cols_datos]\n",
    "y = data['clase']\n",
    "X_train, X_test, y_train, y_test = train_test_split(X, y, test_size = 0.2, random_state = 10)\n"
   ]
  },
  {
   "cell_type": "markdown",
   "metadata": {},
   "source": [
    "## Modelo\n"
   ]
  },
  {
   "cell_type": "markdown",
   "metadata": {},
   "source": [
    "Definimos el modelo secuencial"
   ]
  },
  {
   "cell_type": "code",
   "execution_count": 37,
   "metadata": {},
   "outputs": [
    {
     "name": "stdout",
     "output_type": "stream",
     "text": [
      "Model: \"sequential_3\"\n",
      "_________________________________________________________________\n",
      "Layer (type)                 Output Shape              Param #   \n",
      "=================================================================\n",
      "dense_2 (Dense)              (None, 12)                108       \n",
      "_________________________________________________________________\n",
      "dense_3 (Dense)              (None, 8)                 104       \n",
      "_________________________________________________________________\n",
      "dense_4 (Dense)              (None, 1)                 9         \n",
      "=================================================================\n",
      "Total params: 221\n",
      "Trainable params: 221\n",
      "Non-trainable params: 0\n",
      "_________________________________________________________________\n"
     ]
    }
   ],
   "source": [
    "def genera_modelo(arquitectura, indim=8):\n",
    "    model = Sequential()\n",
    "    nh1, act1 = arquitectura[0]\n",
    "    model.add(Dense(nh1, input_dim=indim, activation=act1))\n",
    "    for capa in arquitectura[1:]:\n",
    "        model.add(Dense(capa[0], activation=capa[1]))\n",
    "    return model\n",
    "\n",
    "modelo = genera_modelo([(12,'relu'), (8,'relu'), (1,'sigmoid')])\n",
    "modelo.summary()"
   ]
  },
  {
   "cell_type": "markdown",
   "metadata": {},
   "source": [
    "Ahora vamos a compilar el modelo usando como función de pérdida la función `binary_crossentropy` debido a que estamos clasificando dos clases. El optimizador a usar es `adam` y la métrica de evaluación va a ser `accuracy`.\n"
   ]
  },
  {
   "cell_type": "code",
   "execution_count": 39,
   "metadata": {},
   "outputs": [],
   "source": [
    "modelo.compile(loss='binary_crossentropy', optimizer='adam', metrics=['accuracy'])"
   ]
  },
  {
   "cell_type": "markdown",
   "metadata": {},
   "source": [
    "## Entrenamiento y evaluación"
   ]
  },
  {
   "cell_type": "markdown",
   "metadata": {},
   "source": [
    "Una vez compilado el modelo, podemos entrenarlo"
   ]
  },
  {
   "cell_type": "code",
   "execution_count": 40,
   "metadata": {},
   "outputs": [
    {
     "name": "stdout",
     "output_type": "stream",
     "text": [
      "Epoch 1/200\n",
      "25/25 [==============================] - 1s 951us/step - loss: 8.2411 - accuracy: 0.2489\n",
      "Epoch 2/200\n",
      "25/25 [==============================] - 0s 989us/step - loss: 8.3004 - accuracy: 0.2314\n",
      "Epoch 3/200\n",
      "25/25 [==============================] - 0s 1ms/step - loss: 8.3631 - accuracy: 0.2385\n",
      "Epoch 4/200\n",
      "25/25 [==============================] - 0s 2ms/step - loss: 8.1691 - accuracy: 0.2319\n",
      "Epoch 5/200\n",
      "25/25 [==============================] - 0s 910us/step - loss: 8.2167 - accuracy: 0.2607\n",
      "Epoch 6/200\n",
      "25/25 [==============================] - 0s 2ms/step - loss: 8.3290 - accuracy: 0.2464\n",
      "Epoch 7/200\n",
      "25/25 [==============================] - 0s 1ms/step - loss: 8.1246 - accuracy: 0.2458\n",
      "Epoch 8/200\n",
      "25/25 [==============================] - 0s 2ms/step - loss: 8.2667 - accuracy: 0.2491\n",
      "Epoch 9/200\n",
      "25/25 [==============================] - 0s 793us/step - loss: 8.2976 - accuracy: 0.2300\n",
      "Epoch 10/200\n",
      "25/25 [==============================] - 0s 2ms/step - loss: 8.4669 - accuracy: 0.2370\n",
      "Epoch 11/200\n",
      "25/25 [==============================] - 0s 921us/step - loss: 8.1021 - accuracy: 0.2539\n",
      "Epoch 12/200\n",
      "25/25 [==============================] - 0s 2ms/step - loss: 8.1504 - accuracy: 0.2377\n",
      "Epoch 13/200\n",
      "25/25 [==============================] - 0s 1ms/step - loss: 8.1874 - accuracy: 0.2534\n",
      "Epoch 14/200\n",
      "25/25 [==============================] - 0s 2ms/step - loss: 8.3464 - accuracy: 0.2226\n",
      "Epoch 15/200\n",
      "25/25 [==============================] - 0s 871us/step - loss: 8.1784 - accuracy: 0.2420\n",
      "Epoch 16/200\n",
      "25/25 [==============================] - 0s 1ms/step - loss: 8.3755 - accuracy: 0.2337\n",
      "Epoch 17/200\n",
      "25/25 [==============================] - 0s 974us/step - loss: 8.4472 - accuracy: 0.2386\n",
      "Epoch 18/200\n",
      "25/25 [==============================] - 0s 1ms/step - loss: 8.5394 - accuracy: 0.2240\n",
      "Epoch 19/200\n",
      "25/25 [==============================] - 0s 2ms/step - loss: 8.5314 - accuracy: 0.2334\n",
      "Epoch 20/200\n",
      "25/25 [==============================] - 0s 1ms/step - loss: 8.6585 - accuracy: 0.2108\n",
      "Epoch 21/200\n",
      "25/25 [==============================] - 0s 2ms/step - loss: 8.1457 - accuracy: 0.2623\n",
      "Epoch 22/200\n",
      "25/25 [==============================] - 0s 775us/step - loss: 8.5048 - accuracy: 0.2319\n",
      "Epoch 23/200\n",
      "25/25 [==============================] - 0s 2ms/step - loss: 8.5769 - accuracy: 0.2119\n",
      "Epoch 24/200\n",
      "25/25 [==============================] - 0s 1ms/step - loss: 8.4628 - accuracy: 0.2409\n",
      "Epoch 25/200\n",
      "25/25 [==============================] - 0s 2ms/step - loss: 8.3569 - accuracy: 0.2503\n",
      "Epoch 26/200\n",
      "25/25 [==============================] - 0s 965us/step - loss: 8.0452 - accuracy: 0.2684\n",
      "Epoch 27/200\n",
      "25/25 [==============================] - 0s 2ms/step - loss: 8.5978 - accuracy: 0.2253\n",
      "Epoch 28/200\n",
      "25/25 [==============================] - 0s 1ms/step - loss: 8.9165 - accuracy: 0.1828\n",
      "Epoch 29/200\n",
      "25/25 [==============================] - 0s 1ms/step - loss: 8.2684 - accuracy: 0.2481\n",
      "Epoch 30/200\n",
      "25/25 [==============================] - 0s 2ms/step - loss: 8.4171 - accuracy: 0.2442\n",
      "Epoch 31/200\n",
      "25/25 [==============================] - 0s 751us/step - loss: 8.4663 - accuracy: 0.2375\n",
      "Epoch 32/200\n",
      "25/25 [==============================] - 0s 2ms/step - loss: 8.5208 - accuracy: 0.2388\n",
      "Epoch 33/200\n",
      "25/25 [==============================] - 0s 707us/step - loss: 8.4601 - accuracy: 0.2374\n",
      "Epoch 34/200\n",
      "25/25 [==============================] - 0s 1ms/step - loss: 8.3988 - accuracy: 0.2320\n",
      "Epoch 35/200\n",
      "25/25 [==============================] - 0s 2ms/step - loss: 8.3843 - accuracy: 0.2312\n",
      "Epoch 36/200\n",
      "25/25 [==============================] - 0s 710us/step - loss: 8.3205 - accuracy: 0.2355\n",
      "Epoch 37/200\n",
      "25/25 [==============================] - 0s 874us/step - loss: 8.2598 - accuracy: 0.2446\n",
      "Epoch 38/200\n",
      "25/25 [==============================] - 0s 1ms/step - loss: 8.3102 - accuracy: 0.2309\n",
      "Epoch 39/200\n",
      "25/25 [==============================] - 0s 980us/step - loss: 8.4315 - accuracy: 0.2374\n",
      "Epoch 40/200\n",
      "25/25 [==============================] - 0s 2ms/step - loss: 8.5754 - accuracy: 0.2364\n",
      "Epoch 41/200\n",
      "25/25 [==============================] - 0s 1ms/step - loss: 8.3333 - accuracy: 0.2280\n",
      "Epoch 42/200\n",
      "25/25 [==============================] - 0s 1ms/step - loss: 8.2508 - accuracy: 0.2549\n",
      "Epoch 43/200\n",
      "25/25 [==============================] - 0s 2ms/step - loss: 8.1068 - accuracy: 0.2357\n",
      "Epoch 44/200\n",
      "25/25 [==============================] - 0s 801us/step - loss: 8.4288 - accuracy: 0.2406\n",
      "Epoch 45/200\n",
      "25/25 [==============================] - 0s 1ms/step - loss: 8.1267 - accuracy: 0.2604\n",
      "Epoch 46/200\n",
      "25/25 [==============================] - 0s 1ms/step - loss: 8.1428 - accuracy: 0.2615\n",
      "Epoch 47/200\n",
      "25/25 [==============================] - 0s 934us/step - loss: 8.1782 - accuracy: 0.2496\n",
      "Epoch 48/200\n",
      "25/25 [==============================] - 0s 1ms/step - loss: 8.1469 - accuracy: 0.2373\n",
      "Epoch 49/200\n",
      "25/25 [==============================] - 0s 2ms/step - loss: 8.3066 - accuracy: 0.2335\n",
      "Epoch 50/200\n",
      "25/25 [==============================] - 0s 2ms/step - loss: 8.0081 - accuracy: 0.2816\n",
      "Epoch 51/200\n",
      "25/25 [==============================] - 0s 1ms/step - loss: 8.5191 - accuracy: 0.2274\n",
      "Epoch 52/200\n",
      "25/25 [==============================] - 0s 1ms/step - loss: 8.5287 - accuracy: 0.2376\n",
      "Epoch 53/200\n",
      "25/25 [==============================] - 0s 1ms/step - loss: 8.2477 - accuracy: 0.2277\n",
      "Epoch 54/200\n",
      "25/25 [==============================] - 0s 1ms/step - loss: 8.3885 - accuracy: 0.2476\n",
      "Epoch 55/200\n",
      "25/25 [==============================] - 0s 885us/step - loss: 8.0008 - accuracy: 0.2507\n",
      "Epoch 56/200\n",
      "25/25 [==============================] - 0s 683us/step - loss: 8.3504 - accuracy: 0.2511\n",
      "Epoch 57/200\n",
      "25/25 [==============================] - 0s 1ms/step - loss: 8.3453 - accuracy: 0.2358\n",
      "Epoch 58/200\n",
      "25/25 [==============================] - 0s 1ms/step - loss: 8.0706 - accuracy: 0.2434\n",
      "Epoch 59/200\n",
      "25/25 [==============================] - 0s 699us/step - loss: 8.5651 - accuracy: 0.2147\n",
      "Epoch 60/200\n",
      "25/25 [==============================] - 0s 1ms/step - loss: 8.3152 - accuracy: 0.2379\n",
      "Epoch 61/200\n",
      "25/25 [==============================] - 0s 1ms/step - loss: 8.4971 - accuracy: 0.2359\n",
      "Epoch 62/200\n",
      "25/25 [==============================] - 0s 1ms/step - loss: 8.3775 - accuracy: 0.2224\n",
      "Epoch 63/200\n",
      "25/25 [==============================] - 0s 1ms/step - loss: 8.3280 - accuracy: 0.2516\n",
      "Epoch 64/200\n",
      "25/25 [==============================] - 0s 1ms/step - loss: 8.3460 - accuracy: 0.2595\n",
      "Epoch 65/200\n",
      "25/25 [==============================] - 0s 1ms/step - loss: 8.3173 - accuracy: 0.2365\n",
      "Epoch 66/200\n",
      "25/25 [==============================] - 0s 994us/step - loss: 8.0385 - accuracy: 0.2568\n",
      "Epoch 67/200\n",
      "25/25 [==============================] - 0s 670us/step - loss: 8.0985 - accuracy: 0.2444\n",
      "Epoch 68/200\n",
      "25/25 [==============================] - 0s 843us/step - loss: 8.2431 - accuracy: 0.2548\n",
      "Epoch 69/200\n",
      "25/25 [==============================] - 0s 1ms/step - loss: 8.1940 - accuracy: 0.2411\n",
      "Epoch 70/200\n",
      "25/25 [==============================] - 0s 1ms/step - loss: 8.1851 - accuracy: 0.2225\n",
      "Epoch 71/200\n",
      "25/25 [==============================] - 0s 847us/step - loss: 8.5905 - accuracy: 0.2283\n",
      "Epoch 72/200\n",
      "25/25 [==============================] - 0s 796us/step - loss: 8.2940 - accuracy: 0.2208\n",
      "Epoch 73/200\n",
      "25/25 [==============================] - 0s 1ms/step - loss: 8.4048 - accuracy: 0.2464\n",
      "Epoch 74/200\n",
      "25/25 [==============================] - 0s 934us/step - loss: 8.4579 - accuracy: 0.2356\n",
      "Epoch 75/200\n",
      "25/25 [==============================] - 0s 741us/step - loss: 8.3709 - accuracy: 0.2347\n",
      "Epoch 76/200\n",
      "25/25 [==============================] - 0s 958us/step - loss: 8.3914 - accuracy: 0.2411\n",
      "Epoch 77/200\n",
      "25/25 [==============================] - 0s 1ms/step - loss: 8.3045 - accuracy: 0.2543\n",
      "Epoch 78/200\n",
      "25/25 [==============================] - 0s 1ms/step - loss: 8.5426 - accuracy: 0.2385\n",
      "Epoch 79/200\n",
      "25/25 [==============================] - 0s 1ms/step - loss: 8.0043 - accuracy: 0.2544\n",
      "Epoch 80/200\n",
      "25/25 [==============================] - 0s 1ms/step - loss: 8.6237 - accuracy: 0.2417\n",
      "Epoch 81/200\n",
      "25/25 [==============================] - 0s 1ms/step - loss: 8.4885 - accuracy: 0.2370\n",
      "Epoch 82/200\n"
     ]
    },
    {
     "name": "stdout",
     "output_type": "stream",
     "text": [
      "25/25 [==============================] - 0s 1ms/step - loss: 8.0271 - accuracy: 0.2488\n",
      "Epoch 83/200\n",
      "25/25 [==============================] - 0s 936us/step - loss: 8.4638 - accuracy: 0.2137\n",
      "Epoch 84/200\n",
      "25/25 [==============================] - 0s 791us/step - loss: 8.4787 - accuracy: 0.2379\n",
      "Epoch 85/200\n",
      "25/25 [==============================] - 0s 931us/step - loss: 8.2120 - accuracy: 0.2288\n",
      "Epoch 86/200\n",
      "25/25 [==============================] - 0s 834us/step - loss: 8.1816 - accuracy: 0.2541\n",
      "Epoch 87/200\n",
      "25/25 [==============================] - 0s 687us/step - loss: 7.8549 - accuracy: 0.2800\n",
      "Epoch 88/200\n",
      "25/25 [==============================] - 0s 1ms/step - loss: 8.2751 - accuracy: 0.2555\n",
      "Epoch 89/200\n",
      "25/25 [==============================] - 0s 965us/step - loss: 8.3626 - accuracy: 0.2372\n",
      "Epoch 90/200\n",
      "25/25 [==============================] - 0s 781us/step - loss: 8.3750 - accuracy: 0.2222\n",
      "Epoch 91/200\n",
      "25/25 [==============================] - 0s 716us/step - loss: 8.2875 - accuracy: 0.2366\n",
      "Epoch 92/200\n",
      "25/25 [==============================] - 0s 1ms/step - loss: 8.4417 - accuracy: 0.2481\n",
      "Epoch 93/200\n",
      "25/25 [==============================] - 0s 1ms/step - loss: 8.5312 - accuracy: 0.2289\n",
      "Epoch 94/200\n",
      "25/25 [==============================] - 0s 1ms/step - loss: 8.6212 - accuracy: 0.2200\n",
      "Epoch 95/200\n",
      "25/25 [==============================] - 0s 1ms/step - loss: 8.2758 - accuracy: 0.2405\n",
      "Epoch 96/200\n",
      "25/25 [==============================] - 0s 2ms/step - loss: 8.5032 - accuracy: 0.2343\n",
      "Epoch 97/200\n",
      "25/25 [==============================] - 0s 916us/step - loss: 8.2233 - accuracy: 0.2402\n",
      "Epoch 98/200\n",
      "25/25 [==============================] - 0s 827us/step - loss: 8.0988 - accuracy: 0.2284\n",
      "Epoch 99/200\n",
      "25/25 [==============================] - 0s 742us/step - loss: 8.3358 - accuracy: 0.2350\n",
      "Epoch 100/200\n",
      "25/25 [==============================] - 0s 1ms/step - loss: 8.2989 - accuracy: 0.2422\n",
      "Epoch 101/200\n",
      "25/25 [==============================] - 0s 1ms/step - loss: 8.6200 - accuracy: 0.2358\n",
      "Epoch 102/200\n",
      "25/25 [==============================] - 0s 1ms/step - loss: 8.5478 - accuracy: 0.2184\n",
      "Epoch 103/200\n",
      "25/25 [==============================] - 0s 1ms/step - loss: 8.4294 - accuracy: 0.2453\n",
      "Epoch 104/200\n",
      "25/25 [==============================] - 0s 1ms/step - loss: 8.5024 - accuracy: 0.2523\n",
      "Epoch 105/200\n",
      "25/25 [==============================] - 0s 1ms/step - loss: 8.3881 - accuracy: 0.2418\n",
      "Epoch 106/200\n",
      "25/25 [==============================] - 0s 2ms/step - loss: 8.3400 - accuracy: 0.2507\n",
      "Epoch 107/200\n",
      "25/25 [==============================] - 0s 1ms/step - loss: 8.1665 - accuracy: 0.2489\n",
      "Epoch 108/200\n",
      "25/25 [==============================] - 0s 2ms/step - loss: 8.3312 - accuracy: 0.2464\n",
      "Epoch 109/200\n",
      "25/25 [==============================] - 0s 2ms/step - loss: 8.1778 - accuracy: 0.2309\n",
      "Epoch 110/200\n",
      "25/25 [==============================] - 0s 2ms/step - loss: 8.2494 - accuracy: 0.2339\n",
      "Epoch 111/200\n",
      "25/25 [==============================] - 0s 2ms/step - loss: 8.3356 - accuracy: 0.2621\n",
      "Epoch 112/200\n",
      "25/25 [==============================] - 0s 2ms/step - loss: 8.3902 - accuracy: 0.2394\n",
      "Epoch 113/200\n",
      "25/25 [==============================] - 0s 2ms/step - loss: 8.2613 - accuracy: 0.2601\n",
      "Epoch 114/200\n",
      "25/25 [==============================] - 0s 927us/step - loss: 8.4458 - accuracy: 0.2343\n",
      "Epoch 115/200\n",
      "25/25 [==============================] - 0s 837us/step - loss: 8.3940 - accuracy: 0.2551\n",
      "Epoch 116/200\n",
      "25/25 [==============================] - 0s 1ms/step - loss: 8.5832 - accuracy: 0.2223\n",
      "Epoch 117/200\n",
      "25/25 [==============================] - 0s 1ms/step - loss: 8.4026 - accuracy: 0.2288\n",
      "Epoch 118/200\n",
      "25/25 [==============================] - 0s 3ms/step - loss: 8.1824 - accuracy: 0.2415\n",
      "Epoch 119/200\n",
      "25/25 [==============================] - 0s 3ms/step - loss: 8.1473 - accuracy: 0.2491\n",
      "Epoch 120/200\n",
      "25/25 [==============================] - 0s 2ms/step - loss: 8.2741 - accuracy: 0.2183\n",
      "Epoch 121/200\n",
      "25/25 [==============================] - 0s 2ms/step - loss: 8.0877 - accuracy: 0.2524\n",
      "Epoch 122/200\n",
      "25/25 [==============================] - ETA: 0s - loss: 9.0928 - accuracy: 0.16 - 0s 1ms/step - loss: 8.4338 - accuracy: 0.2264\n",
      "Epoch 123/200\n",
      "25/25 [==============================] - 0s 1ms/step - loss: 8.2200 - accuracy: 0.2478\n",
      "Epoch 124/200\n",
      "25/25 [==============================] - 0s 1ms/step - loss: 8.4534 - accuracy: 0.2507\n",
      "Epoch 125/200\n",
      "25/25 [==============================] - 0s 1ms/step - loss: 8.4771 - accuracy: 0.2273\n",
      "Epoch 126/200\n",
      "25/25 [==============================] - 0s 1ms/step - loss: 8.2560 - accuracy: 0.2514\n",
      "Epoch 127/200\n",
      "25/25 [==============================] - 0s 1ms/step - loss: 8.4322 - accuracy: 0.2355\n",
      "Epoch 128/200\n",
      "25/25 [==============================] - 0s 2ms/step - loss: 8.1225 - accuracy: 0.2529\n",
      "Epoch 129/200\n",
      "25/25 [==============================] - 0s 1ms/step - loss: 8.2749 - accuracy: 0.2406\n",
      "Epoch 130/200\n",
      "25/25 [==============================] - 0s 1ms/step - loss: 8.3734 - accuracy: 0.2586\n",
      "Epoch 131/200\n",
      "25/25 [==============================] - 0s 949us/step - loss: 8.4572 - accuracy: 0.2263\n",
      "Epoch 132/200\n",
      "25/25 [==============================] - 0s 1ms/step - loss: 8.2928 - accuracy: 0.2481\n",
      "Epoch 133/200\n",
      "25/25 [==============================] - 0s 3ms/step - loss: 8.2648 - accuracy: 0.2435\n",
      "Epoch 134/200\n",
      "25/25 [==============================] - 0s 2ms/step - loss: 8.5559 - accuracy: 0.2216\n",
      "Epoch 135/200\n",
      "25/25 [==============================] - 0s 2ms/step - loss: 8.4995 - accuracy: 0.2324\n",
      "Epoch 136/200\n",
      "25/25 [==============================] - 0s 1ms/step - loss: 8.6156 - accuracy: 0.2242\n",
      "Epoch 137/200\n",
      "25/25 [==============================] - 0s 938us/step - loss: 8.3886 - accuracy: 0.2192\n",
      "Epoch 138/200\n",
      "25/25 [==============================] - 0s 769us/step - loss: 8.0719 - accuracy: 0.2524\n",
      "Epoch 139/200\n",
      "25/25 [==============================] - 0s 1ms/step - loss: 8.1608 - accuracy: 0.2439\n",
      "Epoch 140/200\n",
      "25/25 [==============================] - 0s 1ms/step - loss: 8.2983 - accuracy: 0.2523\n",
      "Epoch 141/200\n",
      "25/25 [==============================] - 0s 1ms/step - loss: 8.3282 - accuracy: 0.2272\n",
      "Epoch 142/200\n",
      "25/25 [==============================] - 0s 1ms/step - loss: 8.2313 - accuracy: 0.2456\n",
      "Epoch 143/200\n",
      "25/25 [==============================] - 0s 1ms/step - loss: 8.1098 - accuracy: 0.2736\n",
      "Epoch 144/200\n",
      "25/25 [==============================] - 0s 1ms/step - loss: 8.1459 - accuracy: 0.2632\n",
      "Epoch 145/200\n",
      "25/25 [==============================] - 0s 579us/step - loss: 8.3369 - accuracy: 0.2412\n",
      "Epoch 146/200\n",
      "25/25 [==============================] - 0s 969us/step - loss: 8.4557 - accuracy: 0.2055\n",
      "Epoch 147/200\n",
      "25/25 [==============================] - 0s 1ms/step - loss: 8.4656 - accuracy: 0.2293\n",
      "Epoch 148/200\n",
      "25/25 [==============================] - 0s 1ms/step - loss: 8.5224 - accuracy: 0.2420\n",
      "Epoch 149/200\n",
      "25/25 [==============================] - 0s 1ms/step - loss: 8.2476 - accuracy: 0.2585\n",
      "Epoch 150/200\n",
      "25/25 [==============================] - 0s 554us/step - loss: 8.4031 - accuracy: 0.2455\n",
      "Epoch 151/200\n",
      "25/25 [==============================] - 0s 826us/step - loss: 8.0210 - accuracy: 0.2541\n",
      "Epoch 152/200\n",
      "25/25 [==============================] - 0s 2ms/step - loss: 8.4847 - accuracy: 0.2164\n",
      "Epoch 153/200\n",
      "25/25 [==============================] - 0s 2ms/step - loss: 8.4067 - accuracy: 0.2388\n",
      "Epoch 154/200\n",
      "25/25 [==============================] - 0s 2ms/step - loss: 8.2075 - accuracy: 0.2482\n",
      "Epoch 155/200\n",
      "25/25 [==============================] - 0s 2ms/step - loss: 8.2985 - accuracy: 0.2393\n",
      "Epoch 156/200\n",
      "25/25 [==============================] - 0s 2ms/step - loss: 8.6510 - accuracy: 0.2250\n",
      "Epoch 157/200\n",
      "25/25 [==============================] - 0s 2ms/step - loss: 8.1995 - accuracy: 0.2494\n",
      "Epoch 158/200\n",
      "25/25 [==============================] - 0s 2ms/step - loss: 8.3478 - accuracy: 0.2454\n",
      "Epoch 159/200\n",
      "25/25 [==============================] - 0s 2ms/step - loss: 8.2434 - accuracy: 0.2385\n",
      "Epoch 160/200\n",
      "25/25 [==============================] - 0s 1ms/step - loss: 8.3557 - accuracy: 0.2447\n",
      "Epoch 161/200\n",
      "25/25 [==============================] - 0s 1ms/step - loss: 8.2823 - accuracy: 0.2523\n",
      "Epoch 162/200\n"
     ]
    },
    {
     "name": "stdout",
     "output_type": "stream",
     "text": [
      "25/25 [==============================] - 0s 2ms/step - loss: 8.2300 - accuracy: 0.2210\n",
      "Epoch 163/200\n",
      "25/25 [==============================] - 0s 962us/step - loss: 8.5555 - accuracy: 0.2110\n",
      "Epoch 164/200\n",
      "25/25 [==============================] - 0s 974us/step - loss: 8.2631 - accuracy: 0.2624\n",
      "Epoch 165/200\n",
      "25/25 [==============================] - 0s 689us/step - loss: 8.2234 - accuracy: 0.2471\n",
      "Epoch 166/200\n",
      "25/25 [==============================] - 0s 1ms/step - loss: 8.4460 - accuracy: 0.2345\n",
      "Epoch 167/200\n",
      "25/25 [==============================] - 0s 991us/step - loss: 8.3258 - accuracy: 0.2314\n",
      "Epoch 168/200\n",
      "25/25 [==============================] - 0s 972us/step - loss: 8.5200 - accuracy: 0.2370\n",
      "Epoch 169/200\n",
      "25/25 [==============================] - 0s 2ms/step - loss: 8.1439 - accuracy: 0.2417\n",
      "Epoch 170/200\n",
      "25/25 [==============================] - 0s 1ms/step - loss: 8.2450 - accuracy: 0.2498\n",
      "Epoch 171/200\n",
      "25/25 [==============================] - 0s 964us/step - loss: 8.3862 - accuracy: 0.2365\n",
      "Epoch 172/200\n",
      "25/25 [==============================] - 0s 1ms/step - loss: 8.3163 - accuracy: 0.2455\n",
      "Epoch 173/200\n",
      "25/25 [==============================] - 0s 1ms/step - loss: 8.3553 - accuracy: 0.2434\n",
      "Epoch 174/200\n",
      "25/25 [==============================] - 0s 1ms/step - loss: 8.0032 - accuracy: 0.2710\n",
      "Epoch 175/200\n",
      "25/25 [==============================] - 0s 958us/step - loss: 8.0965 - accuracy: 0.2532\n",
      "Epoch 176/200\n",
      "25/25 [==============================] - 0s 2ms/step - loss: 7.9227 - accuracy: 0.2785\n",
      "Epoch 177/200\n",
      "25/25 [==============================] - 0s 882us/step - loss: 8.3137 - accuracy: 0.2362\n",
      "Epoch 178/200\n",
      "25/25 [==============================] - 0s 1ms/step - loss: 8.5027 - accuracy: 0.2390\n",
      "Epoch 179/200\n",
      "25/25 [==============================] - 0s 978us/step - loss: 8.2515 - accuracy: 0.2521\n",
      "Epoch 180/200\n",
      "25/25 [==============================] - 0s 803us/step - loss: 8.5244 - accuracy: 0.2589\n",
      "Epoch 181/200\n",
      "25/25 [==============================] - 0s 722us/step - loss: 8.0647 - accuracy: 0.2620\n",
      "Epoch 182/200\n",
      "25/25 [==============================] - 0s 1ms/step - loss: 8.7196 - accuracy: 0.2097\n",
      "Epoch 183/200\n",
      "25/25 [==============================] - 0s 1ms/step - loss: 8.3813 - accuracy: 0.2382\n",
      "Epoch 184/200\n",
      "25/25 [==============================] - 0s 1ms/step - loss: 8.4229 - accuracy: 0.2322\n",
      "Epoch 185/200\n",
      "25/25 [==============================] - 0s 1ms/step - loss: 8.4087 - accuracy: 0.2583\n",
      "Epoch 186/200\n",
      "25/25 [==============================] - 0s 1ms/step - loss: 8.1452 - accuracy: 0.2540\n",
      "Epoch 187/200\n",
      "25/25 [==============================] - 0s 1ms/step - loss: 8.3730 - accuracy: 0.2347\n",
      "Epoch 188/200\n",
      "25/25 [==============================] - 0s 1ms/step - loss: 8.5499 - accuracy: 0.2109\n",
      "Epoch 189/200\n",
      "25/25 [==============================] - 0s 1ms/step - loss: 8.4882 - accuracy: 0.2367\n",
      "Epoch 190/200\n",
      "25/25 [==============================] - 0s 1ms/step - loss: 8.5087 - accuracy: 0.2359\n",
      "Epoch 191/200\n",
      "25/25 [==============================] - 0s 1ms/step - loss: 8.5919 - accuracy: 0.2284\n",
      "Epoch 192/200\n",
      "25/25 [==============================] - 0s 951us/step - loss: 8.3537 - accuracy: 0.2398\n",
      "Epoch 193/200\n",
      "25/25 [==============================] - 0s 1ms/step - loss: 8.0213 - accuracy: 0.2503\n",
      "Epoch 194/200\n",
      "25/25 [==============================] - 0s 1ms/step - loss: 8.3403 - accuracy: 0.2581\n",
      "Epoch 195/200\n",
      "25/25 [==============================] - 0s 942us/step - loss: 8.4199 - accuracy: 0.2383\n",
      "Epoch 196/200\n",
      "25/25 [==============================] - 0s 824us/step - loss: 8.3329 - accuracy: 0.2260\n",
      "Epoch 197/200\n",
      "25/25 [==============================] - 0s 1ms/step - loss: 8.5016 - accuracy: 0.2415\n",
      "Epoch 198/200\n",
      "25/25 [==============================] - 0s 2ms/step - loss: 8.6850 - accuracy: 0.2400\n",
      "Epoch 199/200\n",
      "25/25 [==============================] - 0s 2ms/step - loss: 8.3296 - accuracy: 0.2518\n",
      "Epoch 200/200\n",
      "25/25 [==============================] - 0s 2ms/step - loss: 8.3275 - accuracy: 0.2408\n"
     ]
    },
    {
     "data": {
      "text/plain": [
       "<tensorflow.python.keras.callbacks.History at 0x7f32c8d99668>"
      ]
     },
     "execution_count": 40,
     "metadata": {},
     "output_type": "execute_result"
    }
   ],
   "source": [
    "model.fit(X_train, y_train, epochs=200, batch_size=25)"
   ]
  },
  {
   "cell_type": "code",
   "execution_count": 41,
   "metadata": {},
   "outputs": [
    {
     "name": "stdout",
     "output_type": "stream",
     "text": [
      "5/5 [==============================] - 0s 1ms/step - loss: 8.8139 - accuracy: 0.2143\n"
     ]
    }
   ],
   "source": [
    "accuracy = model.evaluate(X_test, y_test)"
   ]
  },
  {
   "cell_type": "code",
   "execution_count": 55,
   "metadata": {},
   "outputs": [
    {
     "name": "stdout",
     "output_type": "stream",
     "text": [
      "Accuracy 21.428572 \n"
     ]
    }
   ],
   "source": [
    "print(\"Accuracy {0:2f} \".format(accuracy[1]*100))"
   ]
  },
  {
   "cell_type": "code",
   "execution_count": null,
   "metadata": {},
   "outputs": [],
   "source": []
  }
 ],
 "metadata": {
  "kernelspec": {
   "display_name": "Python 3",
   "language": "python",
   "name": "python3"
  },
  "language_info": {
   "codemirror_mode": {
    "name": "ipython",
    "version": 3
   },
   "file_extension": ".py",
   "mimetype": "text/x-python",
   "name": "python",
   "nbconvert_exporter": "python",
   "pygments_lexer": "ipython3",
   "version": "3.6.9"
  },
  "varInspector": {
   "cols": {
    "lenName": 16,
    "lenType": 16,
    "lenVar": 40
   },
   "kernels_config": {
    "python": {
     "delete_cmd_postfix": "",
     "delete_cmd_prefix": "del ",
     "library": "var_list.py",
     "varRefreshCmd": "print(var_dic_list())"
    },
    "r": {
     "delete_cmd_postfix": ") ",
     "delete_cmd_prefix": "rm(",
     "library": "var_list.r",
     "varRefreshCmd": "cat(var_dic_list()) "
    }
   },
   "types_to_exclude": [
    "module",
    "function",
    "builtin_function_or_method",
    "instance",
    "_Feature"
   ],
   "window_display": false
  }
 },
 "nbformat": 4,
 "nbformat_minor": 4
}
